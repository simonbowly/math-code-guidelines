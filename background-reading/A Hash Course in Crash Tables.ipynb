{
 "cells": [
  {
   "cell_type": "markdown",
   "metadata": {},
   "source": [
    "# Comparison and Hashing with `__eq__` and `__hash__`\n",
    "\n",
    "First a quick hash course in crash tables (ahem) *crash course in hash tables*.\n",
    "(Yes I'm falling well short of the Ballmer peak as a write this on a Monday night).\n",
    "\n",
    "![Ballmer Peak](https://imgs.xkcd.com/comics/ballmer_peak.png)\n",
    "\n",
    "## Step 1: Compute Hash\n",
    "\n",
    "There are three steps to a lookup operation in Python (by a lookup here I mean checking whether something is in a `set`, or finding the value corresponding to a key in a `dict`).\n",
    "The first is calling `hash()` on the object you're trying to use as a key."
   ]
  },
  {
   "cell_type": "markdown",
   "metadata": {},
   "source": [
    "The hash of an integer is itself:"
   ]
  },
  {
   "cell_type": "code",
   "execution_count": 1,
   "metadata": {},
   "outputs": [
    {
     "data": {
      "text/plain": [
       "1"
      ]
     },
     "execution_count": 1,
     "metadata": {},
     "output_type": "execute_result"
    }
   ],
   "source": [
    "hash(1)"
   ]
  },
  {
   "cell_type": "markdown",
   "metadata": {},
   "source": [
    "The hash of other objects somehow munges its internal data to produce another integer"
   ]
  },
  {
   "cell_type": "code",
   "execution_count": 2,
   "metadata": {},
   "outputs": [
    {
     "name": "stdout",
     "output_type": "stream",
     "text": [
      "-3550055125485641917\n",
      "-3550055125485641917\n",
      "787943182607411642\n",
      "787943182607411642\n"
     ]
    }
   ],
   "source": [
    "print(hash((1, 2)))  # Hash of a tuple, not a hash of two things.\n",
    "print(hash((1, 2)))\n",
    "print(hash(\"abcde\"))\n",
    "print(hash(\"abcde\"))"
   ]
  },
  {
   "cell_type": "markdown",
   "metadata": {},
   "source": [
    "The hash of an object is based entirely on its data, and is invariant.\n",
    "There are two exceptions:\n",
    "* hashes of python strings are only the same *for a given run of the Python interpreter*\n",
    "* hashes of instances of user-defined classes are, unless you implement the `__hash__` method, based on `id(...)` ... I'll get into that later\n",
    "\n",
    "The string thing involves a random seed generated when the interpreter starts (this is called *salting* a hash), meaning you can't rely on the hash value remaining the same for different runs of a program.\n",
    "I think this is the case because at some point people used Python's `hash` function to compute hashes for passwords.\n",
    "This is a different kind of hash (a cryptographic hash).\n",
    "Without salting your hash, you're vulnerable to pre-computed hash dictionary attacks, so this was included around Python 3.4 to address this inadvertent security flaw.\n",
    "It's worth noting that you still should not use `hash` to hash passwords, you should use the stuff in `hashlib`.\n",
    "BUT, in the immortal words of Andrew F. Perrykkad, I DIGRESS.\n",
    "\n",
    "The long and the short of it is that the actual hash value does not matter.\n",
    "What you *can* rely on is if two things compare equal, their hashes are the same.\n",
    "\n",
    "`a == b -> hash(a) == hash(b)`\n",
    "\n",
    "However, `hash(a) == hash(b)` does *not* imply that `a == b`.\n",
    "\n",
    "There's another interesting digression here that I heard Raymond Hettinger (a Python core dev) mention in a PyCon talk I can no longer find.\n",
    "He said the full test suite of CPython *still passes* if you remove the equality check used in dictionary key comparison (it's sufficient to compare hashes).\n",
    "In other words, for the purposes of the Python tests (where dictionaries underly absolutely everything), `hash(a) == hash(b)` *does* imply `a == b`.\n",
    "Not sure if this is a pro of the hash implementation or a con of the test suite... Python's hash implementation is pretty good at making unique hashes, is all I'm saying."
   ]
  },
  {
   "cell_type": "markdown",
   "metadata": {},
   "source": [
    "## Step 2: Stick in Hash Table\n",
    "\n",
    "Your basic hash table (underlying a `dict` or `set` in Python), looks like this:\n",
    "\n",
    "```\n",
    "SLOT 0: [           ]\n",
    "SLOT 1: [           ]\n",
    "SLOT 2: [           ]\n",
    "SLOT 3: [           ]\n",
    "```\n",
    "\n",
    "To add an object, I compute its hash, take its modulus w.r.t. the size of the hash table, and stick it in the appropriate spot."
   ]
  },
  {
   "cell_type": "code",
   "execution_count": 3,
   "metadata": {},
   "outputs": [
    {
     "name": "stdout",
     "output_type": "stream",
     "text": [
      "hash((1, 51)) % 4 = 1\n",
      "hash((13, 52)) % 4 = 3\n"
     ]
    }
   ],
   "source": [
    "print(f\"{hash((1, 51)) % 4 = }\")    # New favourite Python3.8 f-string feature btw\n",
    "print(f\"{hash((13, 52)) % 4 = }\")"
   ]
  },
  {
   "cell_type": "markdown",
   "metadata": {},
   "source": [
    "With these objects inserted at `hash(obj) mod p`, the hash table looks like this:\n",
    "\n",
    "```\n",
    "SLOT 0: [           ]\n",
    "SLOT 1: [  (1, 51)  ]\n",
    "SLOT 2: [           ]\n",
    "SLOT 3: [ (13, 52)  ]\n",
    "```\n",
    "\n",
    "I can now look up an object by computing its `hash mod p`.\n",
    "If I land on an empty slot, the object must not be in the table, otherwise, I should be in the right place."
   ]
  },
  {
   "cell_type": "markdown",
   "metadata": {},
   "source": [
    "## Step 3: Check I Found What I'm Looking For\n",
    "\n",
    "Having landed in the right slot of the hash table, I now just do an `==` comparison to verify that I've found what I'm looking for.\n",
    "\n",
    "There's one more thing: hash collisions. If I try to stick the following object into my hash table:"
   ]
  },
  {
   "cell_type": "code",
   "execution_count": 4,
   "metadata": {},
   "outputs": [
    {
     "name": "stdout",
     "output_type": "stream",
     "text": [
      "hash((13, 51)) % 4 = 1\n"
     ]
    }
   ],
   "source": [
    "print(f\"{hash((13, 51)) % 4 = }\")"
   ]
  },
  {
   "cell_type": "markdown",
   "metadata": {},
   "source": [
    "There's something already in slot 1, so I *probe* forward in the table until the next empty slot.\n",
    "This is called *open addressing* or *closed hashing* (annoyingly, open hashing is the opposite of open addressing).\n",
    "Once collisions start appearing, there's an extra step required to find my new `(13, 51)` value, since I need to hash it, go to slot 1, check equality (which fails), then probe forward while checking for equality until I find what I'm after or hit an empty slot.\n",
    "\n",
    "```\n",
    "SLOT 0: [           ]\n",
    "SLOT 1: [  (1, 51)  ]\n",
    "SLOT 2: [ (13, 51)  ]\n",
    "SLOT 3: [ (13, 52)  ]\n",
    "```\n",
    "\n",
    "In practical cases, the hash table is maintained at a size large enough to keep plenty of gaps so probing distance is short.\n",
    "For dictionaries, Python starts with a size 8 table, and proceeds to double in size whenever it becomes 2/3 full."
   ]
  },
  {
   "cell_type": "markdown",
   "metadata": {},
   "source": [
    "## One other thing\n",
    "\n",
    "The hash of a mutable object can't be computed"
   ]
  },
  {
   "cell_type": "code",
   "execution_count": 5,
   "metadata": {},
   "outputs": [
    {
     "ename": "TypeError",
     "evalue": "unhashable type: 'list'",
     "output_type": "error",
     "traceback": [
      "\u001b[0;31m---------------------------------------------------------------------------\u001b[0m",
      "\u001b[0;31mTypeError\u001b[0m                                 Traceback (most recent call last)",
      "\u001b[0;32m<ipython-input-5-84d65be9aa35>\u001b[0m in \u001b[0;36m<module>\u001b[0;34m\u001b[0m\n\u001b[0;32m----> 1\u001b[0;31m \u001b[0mhash\u001b[0m\u001b[0;34m(\u001b[0m\u001b[0;34m[\u001b[0m\u001b[0;36m1\u001b[0m\u001b[0;34m,\u001b[0m \u001b[0;36m2\u001b[0m\u001b[0;34m,\u001b[0m \u001b[0;36m3\u001b[0m\u001b[0;34m]\u001b[0m\u001b[0;34m)\u001b[0m\u001b[0;34m\u001b[0m\u001b[0;34m\u001b[0m\u001b[0m\n\u001b[0m",
      "\u001b[0;31mTypeError\u001b[0m: unhashable type: 'list'"
     ]
    }
   ],
   "source": [
    "hash([1, 2, 3])"
   ]
  },
  {
   "cell_type": "markdown",
   "metadata": {},
   "source": [
    "This is because you don't want to put a `list` as a key in a dict `set`, then be able to change the `list` while it's in there.\n",
    "This would result in the `list` being in an unexpected position in the hashtable, breaking the entire data structure and invalidating all algorithms that could be used to find it."
   ]
  },
  {
   "cell_type": "markdown",
   "metadata": {},
   "source": [
    "# Now for the fun stuff\n",
    "\n",
    "To use user-defined objects with hashtable-based containers, you need to define `__eq__` and `__hash__` member functions.\n",
    "If you don't, `==` among your classes becomes essentially equivalent to `is`, which might not be what you're after.\n",
    "\n",
    "I'll use this little graph model to illustrate some of the weirdness involved with hashing user-defined classes.\n",
    "The graph traversal algorithm just starts from one node, and traverses `key -> value` in the `graph` dictionary until it finds no neighbouring node.\n",
    "In all these examples, starting at `3` should end at `6` unless something goes wrong."
   ]
  },
  {
   "cell_type": "code",
   "execution_count": 6,
   "metadata": {},
   "outputs": [
    {
     "data": {
      "text/plain": [
       "6"
      ]
     },
     "execution_count": 6,
     "metadata": {},
     "output_type": "execute_result"
    }
   ],
   "source": [
    "def go_to_end(graph, start):\n",
    "    \"\"\" Traverse a graph. \"\"\"\n",
    "    while True:\n",
    "        next_ = graph.get(start)\n",
    "        if next_ is None:\n",
    "            break\n",
    "        start = next_\n",
    "    return start\n",
    "\n",
    "go_to_end(\n",
    "    graph={3: 1, 1: 2, 2: 5, 5: 6},\n",
    "    start=3,\n",
    ")"
   ]
  },
  {
   "cell_type": "markdown",
   "metadata": {},
   "source": [
    "Excellent, it works with integers. Here's what happens when I define my own class:"
   ]
  },
  {
   "cell_type": "code",
   "execution_count": 7,
   "metadata": {},
   "outputs": [],
   "source": [
    "class Obj:\n",
    "    def __init__(self, value):\n",
    "        self.value = value\n",
    "    def __repr__(self):\n",
    "        return f\"{self.value = }\""
   ]
  },
  {
   "cell_type": "markdown",
   "metadata": {},
   "source": [
    "This traverses succesfully ..."
   ]
  },
  {
   "cell_type": "code",
   "execution_count": 8,
   "metadata": {},
   "outputs": [
    {
     "data": {
      "text/plain": [
       "self.value = 6"
      ]
     },
     "execution_count": 8,
     "metadata": {},
     "output_type": "execute_result"
    }
   ],
   "source": [
    "myobjects = [Obj(0), Obj(1), Obj(2), Obj(3), Obj(4), Obj(5), Obj(6)]\n",
    "go_to_end(\n",
    "    graph={\n",
    "        myobjects[3]: myobjects[1],\n",
    "        myobjects[1]: myobjects[2],\n",
    "        myobjects[2]: myobjects[5],\n",
    "        myobjects[5]: myobjects[6],\n",
    "    },\n",
    "    start=myobjects[3],\n",
    ")"
   ]
  },
  {
   "cell_type": "markdown",
   "metadata": {},
   "source": [
    "... because this comparison is truthy ..."
   ]
  },
  {
   "cell_type": "code",
   "execution_count": 9,
   "metadata": {},
   "outputs": [
    {
     "data": {
      "text/plain": [
       "True"
      ]
     },
     "execution_count": 9,
     "metadata": {},
     "output_type": "execute_result"
    }
   ],
   "source": [
    "myobjects[0] == myobjects[0]"
   ]
  },
  {
   "cell_type": "markdown",
   "metadata": {},
   "source": [
    "This, on the other hand, goes nowhere ..."
   ]
  },
  {
   "cell_type": "code",
   "execution_count": 10,
   "metadata": {},
   "outputs": [
    {
     "data": {
      "text/plain": [
       "self.value = 3"
      ]
     },
     "execution_count": 10,
     "metadata": {},
     "output_type": "execute_result"
    }
   ],
   "source": [
    "go_to_end(\n",
    "    graph={Obj(3): Obj(1), Obj(1): Obj(2), Obj(2): Obj(5), Obj(5): Obj(6)},\n",
    "    start=Obj(3),\n",
    ")"
   ]
  },
  {
   "cell_type": "markdown",
   "metadata": {},
   "source": [
    "... because this comparison is falsey ..."
   ]
  },
  {
   "cell_type": "code",
   "execution_count": 11,
   "metadata": {},
   "outputs": [
    {
     "data": {
      "text/plain": [
       "False"
      ]
     },
     "execution_count": 11,
     "metadata": {},
     "output_type": "execute_result"
    }
   ],
   "source": [
    "Obj(3) == Obj(3)"
   ]
  },
  {
   "cell_type": "markdown",
   "metadata": {},
   "source": [
    "This occurs because the default `__hash__` and `__eq__` methods use `id(self)` as their base.\n",
    "The comparison by default is not based on the objects data, it's based on whether the objects *are actually the same reference*.\n",
    "\n",
    "Further fun complications arise because a dataclass (quite sensibly) overrides this behaviour and is therefore not hashable by default."
   ]
  },
  {
   "cell_type": "code",
   "execution_count": 12,
   "metadata": {},
   "outputs": [
    {
     "ename": "TypeError",
     "evalue": "unhashable type: 'Obj'",
     "output_type": "error",
     "traceback": [
      "\u001b[0;31m---------------------------------------------------------------------------\u001b[0m",
      "\u001b[0;31mTypeError\u001b[0m                                 Traceback (most recent call last)",
      "\u001b[0;32m<ipython-input-12-98273397860d>\u001b[0m in \u001b[0;36m<module>\u001b[0;34m\u001b[0m\n\u001b[1;32m      6\u001b[0m \u001b[0;34m\u001b[0m\u001b[0m\n\u001b[1;32m      7\u001b[0m go_to_end(\n\u001b[0;32m----> 8\u001b[0;31m     \u001b[0mgraph\u001b[0m\u001b[0;34m=\u001b[0m\u001b[0;34m{\u001b[0m\u001b[0mObj\u001b[0m\u001b[0;34m(\u001b[0m\u001b[0;36m3\u001b[0m\u001b[0;34m)\u001b[0m\u001b[0;34m:\u001b[0m \u001b[0mObj\u001b[0m\u001b[0;34m(\u001b[0m\u001b[0;36m1\u001b[0m\u001b[0;34m)\u001b[0m\u001b[0;34m,\u001b[0m \u001b[0mObj\u001b[0m\u001b[0;34m(\u001b[0m\u001b[0;36m1\u001b[0m\u001b[0;34m)\u001b[0m\u001b[0;34m:\u001b[0m \u001b[0mObj\u001b[0m\u001b[0;34m(\u001b[0m\u001b[0;36m2\u001b[0m\u001b[0;34m)\u001b[0m\u001b[0;34m,\u001b[0m \u001b[0mObj\u001b[0m\u001b[0;34m(\u001b[0m\u001b[0;36m2\u001b[0m\u001b[0;34m)\u001b[0m\u001b[0;34m:\u001b[0m \u001b[0mObj\u001b[0m\u001b[0;34m(\u001b[0m\u001b[0;36m5\u001b[0m\u001b[0;34m)\u001b[0m\u001b[0;34m,\u001b[0m \u001b[0mObj\u001b[0m\u001b[0;34m(\u001b[0m\u001b[0;36m5\u001b[0m\u001b[0;34m)\u001b[0m\u001b[0;34m:\u001b[0m \u001b[0mObj\u001b[0m\u001b[0;34m(\u001b[0m\u001b[0;36m6\u001b[0m\u001b[0;34m)\u001b[0m\u001b[0;34m}\u001b[0m\u001b[0;34m,\u001b[0m\u001b[0;34m\u001b[0m\u001b[0;34m\u001b[0m\u001b[0m\n\u001b[0m\u001b[1;32m      9\u001b[0m     \u001b[0mstart\u001b[0m\u001b[0;34m=\u001b[0m\u001b[0mObj\u001b[0m\u001b[0;34m(\u001b[0m\u001b[0;36m3\u001b[0m\u001b[0;34m)\u001b[0m\u001b[0;34m,\u001b[0m\u001b[0;34m\u001b[0m\u001b[0;34m\u001b[0m\u001b[0m\n\u001b[1;32m     10\u001b[0m )\n",
      "\u001b[0;31mTypeError\u001b[0m: unhashable type: 'Obj'"
     ]
    }
   ],
   "source": [
    "from dataclasses import dataclass\n",
    "\n",
    "@dataclass\n",
    "class Obj:\n",
    "    value: int\n",
    "\n",
    "go_to_end(\n",
    "    graph={Obj(3): Obj(1), Obj(1): Obj(2), Obj(2): Obj(5), Obj(5): Obj(6)},\n",
    "    start=Obj(3),\n",
    ")"
   ]
  },
  {
   "cell_type": "markdown",
   "metadata": {},
   "source": [
    "However we do get an equality comparator made for us which compares objects based on their data, not their id."
   ]
  },
  {
   "cell_type": "code",
   "execution_count": 13,
   "metadata": {},
   "outputs": [
    {
     "data": {
      "text/plain": [
       "True"
      ]
     },
     "execution_count": 13,
     "metadata": {},
     "output_type": "execute_result"
    }
   ],
   "source": [
    "Obj(3) == Obj(3)"
   ]
  },
  {
   "cell_type": "markdown",
   "metadata": {},
   "source": [
    "The below code, however, works as intended.\n",
    "`frozen=True` signals that the dataclass should build its own `__hash__` method, which basically means make a tuple of all the data members in order and hash that (all data members must be hashable for this to work)."
   ]
  },
  {
   "cell_type": "code",
   "execution_count": 14,
   "metadata": {},
   "outputs": [
    {
     "data": {
      "text/plain": [
       "Obj(value=6)"
      ]
     },
     "execution_count": 14,
     "metadata": {},
     "output_type": "execute_result"
    }
   ],
   "source": [
    "@dataclass(frozen=True)\n",
    "class Obj:\n",
    "    value: int\n",
    "\n",
    "go_to_end(\n",
    "    graph={Obj(3): Obj(1), Obj(1): Obj(2), Obj(2): Obj(5), Obj(5): Obj(6)},\n",
    "    start=Obj(3),\n",
    ")"
   ]
  },
  {
   "cell_type": "markdown",
   "metadata": {},
   "source": [
    "This language feature is a bit odd when coming over from C++, since everything in C++ land is neither hashable nor comparable unless you're really explicit about it."
   ]
  },
  {
   "cell_type": "markdown",
   "metadata": {},
   "source": [
    "## Cost of `__hash__` and `__eq__`\n",
    "\n",
    "The class below is basically what the dataclass is doing under the hood, with some print statements to show the call chain."
   ]
  },
  {
   "cell_type": "code",
   "execution_count": 15,
   "metadata": {},
   "outputs": [
    {
     "name": "stdout",
     "output_type": "stream",
     "text": [
      "Hash Obj(value=3)\n",
      "Hash Obj(value=1)\n",
      "Hash Obj(value=2)\n",
      "Hash Obj(value=5)\n",
      "=== START ===\n",
      "Hash Obj(value=3)\n",
      "Compare Obj(value=3) with Obj(value=3)\n",
      "=== STEP ===\n",
      "Hash Obj(value=1)\n",
      "Compare Obj(value=1) with Obj(value=1)\n",
      "=== STEP ===\n",
      "Hash Obj(value=2)\n",
      "Compare Obj(value=2) with Obj(value=2)\n",
      "=== STEP ===\n",
      "Hash Obj(value=5)\n",
      "Compare Obj(value=5) with Obj(value=5)\n",
      "=== STEP ===\n",
      "Hash Obj(value=6)\n",
      "=== STOP ===\n"
     ]
    },
    {
     "data": {
      "text/plain": [
       "Obj(value=6)"
      ]
     },
     "execution_count": 15,
     "metadata": {},
     "output_type": "execute_result"
    }
   ],
   "source": [
    "def go_to_end_loudly(graph, start):\n",
    "    \"\"\" Traverse a graph. \"\"\"\n",
    "    print(\"=== START ===\")\n",
    "    while True:\n",
    "        next_ = graph.get(start)\n",
    "        if next_ is None:\n",
    "            break\n",
    "        print(\"=== STEP ===\")\n",
    "        start = next_\n",
    "    print(\"=== STOP ===\")\n",
    "    return start\n",
    "\n",
    "class Obj:\n",
    "    def __init__(self, value):\n",
    "        self.value = value\n",
    "    def __repr__(self):\n",
    "        return f\"Obj(value={self.value})\"\n",
    "    def __hash__(self):\n",
    "        print(f\"Hash {self}\")\n",
    "        return hash(self.value)\n",
    "    def __eq__(self, other):\n",
    "        print(f\"Compare {self} with {other}\")\n",
    "        return self.value == other.value\n",
    "\n",
    "go_to_end_loudly(\n",
    "    graph={Obj(3): Obj(1), Obj(1): Obj(2), Obj(2): Obj(5), Obj(5): Obj(6)},\n",
    "    start=Obj(3),\n",
    ")"
   ]
  },
  {
   "cell_type": "markdown",
   "metadata": {},
   "source": [
    "At each step in the algorithm, using the object as a key to look up its next neighbour requires first hashing it, then performing an equality check (you'll get multiple equality checks if there are hash collisions, but that's fairly unlikely if you let `dataclass` handle things).\n",
    "If your hash function is expensive (like if your dataclass is big), then using it for frequent lookups will start to get very slow.\n",
    "\n",
    "Ensuring your class doesn't define `__eq__` or `__hash__` is one option, then they'll be compared and hashed by `id(self)`.\n",
    "IMO this is risky; while you can rely on the behaviour, you have to watch out for:\n",
    "\n",
    "* inadvertently using an object with an expensive `__hash__` method, and\n",
    "* attempting to look up one object using another with identical data where in fact they don't match by id.\n",
    "\n",
    "It's likely clearer and faster to construct your own identifiers for cases like variable index -> solver variable object mappings."
   ]
  },
  {
   "cell_type": "markdown",
   "metadata": {},
   "source": [
    "## Nice uses of hashable objects\n",
    "\n",
    "Here are some cases where the hashable property of dataclasses is both handy and efficient."
   ]
  },
  {
   "cell_type": "markdown",
   "metadata": {},
   "source": [
    "**Whittling out duplicates of complex objects**"
   ]
  },
  {
   "cell_type": "code",
   "execution_count": 16,
   "metadata": {},
   "outputs": [
    {
     "data": {
      "text/plain": [
       "{SomeProperty(value1=1, value2=3),\n",
       " SomeProperty(value1=2, value2=2),\n",
       " SomeProperty(value1=3, value2=2)}"
      ]
     },
     "execution_count": 16,
     "metadata": {},
     "output_type": "execute_result"
    }
   ],
   "source": [
    "@dataclass(frozen=True)\n",
    "class SomeProperty:\n",
    "    value1: int\n",
    "    value2: int\n",
    "\n",
    "data = [\n",
    "    SomeProperty(1, 3),\n",
    "    SomeProperty(2, 2),\n",
    "    SomeProperty(1, 3),\n",
    "    SomeProperty(2, 2),\n",
    "    SomeProperty(1, 3),\n",
    "    SomeProperty(3, 2),\n",
    "]\n",
    "\n",
    "set(data)"
   ]
  },
  {
   "cell_type": "markdown",
   "metadata": {},
   "source": [
    "**Counting occurences of complex objects**"
   ]
  },
  {
   "cell_type": "code",
   "execution_count": 17,
   "metadata": {},
   "outputs": [
    {
     "data": {
      "text/plain": [
       "Counter({SomeProperty(value1=1, value2=3): 3,\n",
       "         SomeProperty(value1=2, value2=2): 2,\n",
       "         SomeProperty(value1=3, value2=2): 1})"
      ]
     },
     "execution_count": 17,
     "metadata": {},
     "output_type": "execute_result"
    }
   ],
   "source": [
    "from collections import Counter\n",
    "\n",
    "Counter(data)"
   ]
  },
  {
   "cell_type": "markdown",
   "metadata": {},
   "source": [
    "**Calculating some summary statistic based on a complicated comparison key**"
   ]
  },
  {
   "cell_type": "code",
   "execution_count": 18,
   "metadata": {},
   "outputs": [
    {
     "data": {
      "text/plain": [
       "defaultdict(<function __main__.<lambda>()>,\n",
       "            {SomeProperty(value1=1, value2=3): 0.9,\n",
       "             SomeProperty(value1=2, value2=2): 0.6000000000000001,\n",
       "             SomeProperty(value1=3, value2=2): 0.6})"
      ]
     },
     "execution_count": 18,
     "metadata": {},
     "output_type": "execute_result"
    }
   ],
   "source": [
    "from collections import defaultdict\n",
    "\n",
    "# These entries could also be a dataclass... but you only\n",
    "# want to make the comparison key bit hashable so keep that\n",
    "# as its own class.\n",
    "data = [\n",
    "    {\"property\": SomeProperty(1, 3), \"value\": 0.1},\n",
    "    {\"property\": SomeProperty(2, 2), \"value\": 0.2},\n",
    "    {\"property\": SomeProperty(1, 3), \"value\": 0.3},\n",
    "    {\"property\": SomeProperty(2, 2), \"value\": 0.4},\n",
    "    {\"property\": SomeProperty(1, 3), \"value\": 0.5},\n",
    "    {\"property\": SomeProperty(3, 2), \"value\": 0.6},\n",
    "]\n",
    "\n",
    "result = defaultdict(lambda: 0)\n",
    "for entry in data:\n",
    "    result[entry[\"property\"]] += entry[\"value\"]\n",
    "result"
   ]
  },
  {
   "cell_type": "markdown",
   "metadata": {},
   "source": [
    "## Bad behaviour\n",
    "\n",
    "Here's what happens if you screw up the hash computation (this one returns the same hash for every object)... the dict has to fall back on open addressing equality checks because hashes don't separate things into sensible buckets anymore. It just compares things in sequence until it gets a match. This is the silent killer..."
   ]
  },
  {
   "cell_type": "code",
   "execution_count": 19,
   "metadata": {},
   "outputs": [
    {
     "name": "stdout",
     "output_type": "stream",
     "text": [
      "Hash Obj(value=3)\n",
      "Hash Obj(value=1)\n",
      "Compare Obj(value=3) with Obj(value=1)\n",
      "Hash Obj(value=2)\n",
      "Compare Obj(value=3) with Obj(value=2)\n",
      "Compare Obj(value=1) with Obj(value=2)\n",
      "Hash Obj(value=5)\n",
      "Compare Obj(value=3) with Obj(value=5)\n",
      "Compare Obj(value=1) with Obj(value=5)\n",
      "Compare Obj(value=2) with Obj(value=5)\n",
      "=== START ===\n",
      "Hash Obj(value=3)\n",
      "Compare Obj(value=3) with Obj(value=3)\n",
      "=== STEP ===\n",
      "Hash Obj(value=1)\n",
      "Compare Obj(value=3) with Obj(value=1)\n",
      "Compare Obj(value=1) with Obj(value=1)\n",
      "=== STEP ===\n",
      "Hash Obj(value=2)\n",
      "Compare Obj(value=3) with Obj(value=2)\n",
      "Compare Obj(value=1) with Obj(value=2)\n",
      "Compare Obj(value=2) with Obj(value=2)\n",
      "=== STEP ===\n",
      "Hash Obj(value=5)\n",
      "Compare Obj(value=3) with Obj(value=5)\n",
      "Compare Obj(value=1) with Obj(value=5)\n",
      "Compare Obj(value=2) with Obj(value=5)\n",
      "Compare Obj(value=5) with Obj(value=5)\n",
      "=== STEP ===\n",
      "Hash Obj(value=6)\n",
      "Compare Obj(value=3) with Obj(value=6)\n",
      "Compare Obj(value=1) with Obj(value=6)\n",
      "Compare Obj(value=2) with Obj(value=6)\n",
      "Compare Obj(value=5) with Obj(value=6)\n",
      "=== STOP ===\n"
     ]
    },
    {
     "data": {
      "text/plain": [
       "Obj(value=6)"
      ]
     },
     "execution_count": 19,
     "metadata": {},
     "output_type": "execute_result"
    }
   ],
   "source": [
    "class Obj:\n",
    "    def __init__(self, value):\n",
    "        self.value = value\n",
    "    def __repr__(self):\n",
    "        return f\"Obj(value={self.value})\"\n",
    "    def __hash__(self):\n",
    "        print(f\"Hash {self}\")\n",
    "        return 0                  # BAAAAAAAAAAD\n",
    "    def __eq__(self, other):\n",
    "        print(f\"Compare {self} with {other}\")\n",
    "        return self.value == other.value\n",
    "\n",
    "go_to_end_loudly(\n",
    "    graph={Obj(3): Obj(1), Obj(1): Obj(2), Obj(2): Obj(5), Obj(5): Obj(6)},\n",
    "    start=Obj(3),\n",
    ")"
   ]
  },
  {
   "cell_type": "markdown",
   "metadata": {},
   "source": [
    "## `functools.lru_cache`\n",
    "\n",
    "Slight side note, but you need to understand hashing to get what's going on here.\n",
    "`functools.lru_cache` works by hashing the arguments of a function and creating a lookup table for itself.\n",
    "\n",
    "```python\n",
    "@functools.lru_cache\n",
    "def a_plus_b(a, b):\n",
    "    return a + b\n",
    "```\n",
    "\n",
    "The decorated version of the function creates a hash table mapping the arguments (as a tuple) to the result.\n",
    "This means the arguments must be hashable in order for the lookup to work.\n",
    "The decorator is meant to be used only for standalone pure functions, not for methods defined on a class.\n",
    "\n",
    "One explanation (though apparently not the really critical reason) is that this:\n",
    "\n",
    "```python\n",
    "class MyClass:\n",
    "    @functools.lru_cache\n",
    "    def func(self, a, b):\n",
    "        return a + b + self.something\n",
    "```\n",
    "\n",
    "requires `self` to be hashed as well.\n",
    "So it will fail altogether if you class is not hashable.\n",
    "\n",
    "The real explanation is that apparently using `functools.lru_cache` on a method in a class causes [memory leaks](https://stackoverflow.com/questions/33672412/python-functools-lru-cache-with-class-methods-release-object) due to its implementation.\n",
    "I haven't the foggiest idea why this is the case, but apparently the ways around it are:\n",
    "\n",
    "* Use `cached_property` for properties you want to compute lazily (only in Python3.8, but you can get the source to backport it)\n",
    "* Use `methodtools.lru_cache` if you need this functionality inside a class [https://pypi.org/project/methodtools/](https://pypi.org/project/methodtools/)"
   ]
  }
 ],
 "metadata": {
  "kernelspec": {
   "display_name": "Python 3",
   "language": "python",
   "name": "python3"
  },
  "language_info": {
   "codemirror_mode": {
    "name": "ipython",
    "version": 3
   },
   "file_extension": ".py",
   "mimetype": "text/x-python",
   "name": "python",
   "nbconvert_exporter": "python",
   "pygments_lexer": "ipython3",
   "version": "3.8.2"
  }
 },
 "nbformat": 4,
 "nbformat_minor": 4
}
