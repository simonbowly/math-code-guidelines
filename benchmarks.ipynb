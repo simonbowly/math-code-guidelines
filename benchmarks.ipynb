{
 "cells": [
  {
   "cell_type": "code",
   "execution_count": 34,
   "metadata": {},
   "outputs": [
    {
     "name": "stdout",
     "output_type": "stream",
     "text": [
      "The memory_profiler extension is already loaded. To reload it, use:\n",
      "  %reload_ext memory_profiler\n"
     ]
    }
   ],
   "source": [
    "%load_ext memory_profiler\n",
    "from dataclasses import dataclass"
   ]
  },
  {
   "cell_type": "code",
   "execution_count": 42,
   "metadata": {},
   "outputs": [
    {
     "name": "stdout",
     "output_type": "stream",
     "text": [
      "30.4 ms ± 457 µs per loop (mean ± std. dev. of 7 runs, 10 loops each)\n",
      "6.16 ms ± 250 µs per loop (mean ± std. dev. of 7 runs, 100 loops each)\n"
     ]
    }
   ],
   "source": [
    "def create_list_of_tuples(n=10**5):\n",
    "    return [\n",
    "        (i, i*2, i*3, i*4, i*5)\n",
    "        for i in range(n)\n",
    "    ]\n",
    "\n",
    "def sum_list_of_tuples(data):\n",
    "    return sum(obj[0] for obj in data)\n",
    "\n",
    "%timeit create_list_of_tuples()\n",
    "data = create_list_of_tuples()\n",
    "%timeit sum_list_of_tuples(data)"
   ]
  },
  {
   "cell_type": "code",
   "execution_count": 43,
   "metadata": {},
   "outputs": [
    {
     "name": "stdout",
     "output_type": "stream",
     "text": [
      "55.2 ms ± 1.4 ms per loop (mean ± std. dev. of 7 runs, 10 loops each)\n",
      "6.9 ms ± 102 µs per loop (mean ± std. dev. of 7 runs, 100 loops each)\n"
     ]
    }
   ],
   "source": [
    "def create_list_of_dicts(n=10**5):\n",
    "    return [\n",
    "        {\"value\": i, \"a\": i*2, \"b\": i*3, \"c\": i*4, \"d\": i*5}\n",
    "        for i in range(n)\n",
    "    ]\n",
    "\n",
    "def sum_list_of_dicts(data):\n",
    "    return sum(obj[\"value\"] for obj in data)\n",
    "\n",
    "%timeit create_list_of_dicts()\n",
    "data = create_list_of_dicts()\n",
    "%timeit sum_list_of_dicts(data)"
   ]
  },
  {
   "cell_type": "code",
   "execution_count": 44,
   "metadata": {},
   "outputs": [
    {
     "name": "stdout",
     "output_type": "stream",
     "text": [
      "75 ms ± 527 µs per loop (mean ± std. dev. of 7 runs, 10 loops each)\n",
      "6.79 ms ± 36.1 µs per loop (mean ± std. dev. of 7 runs, 100 loops each)\n"
     ]
    }
   ],
   "source": [
    "@dataclass\n",
    "class MyDataClass:\n",
    "    value: int\n",
    "    a: int\n",
    "    b: int\n",
    "    c: int\n",
    "    d: int\n",
    "\n",
    "def create_list_of_dataclasses(n=10**5):\n",
    "    return [\n",
    "        MyDataClass(i, i*2, i*3, i*4, i*5)\n",
    "        for i in range(n)\n",
    "    ]\n",
    "\n",
    "def sum_list_of_dataclasses(data):\n",
    "    return sum(obj.value for obj in data)\n",
    "\n",
    "\n",
    "%timeit create_list_of_dataclasses()\n",
    "data = create_list_of_dataclasses()\n",
    "%timeit sum_list_of_dataclasses(data)"
   ]
  },
  {
   "cell_type": "code",
   "execution_count": 45,
   "metadata": {},
   "outputs": [
    {
     "name": "stdout",
     "output_type": "stream",
     "text": [
      "65.1 ms ± 637 µs per loop (mean ± std. dev. of 7 runs, 10 loops each)\n",
      "6.38 ms ± 71.2 µs per loop (mean ± std. dev. of 7 runs, 100 loops each)\n"
     ]
    }
   ],
   "source": [
    "class MySlotsClass:\n",
    "    __slots__ = [\"value\", \"a\", \"b\", \"c\", \"d\"]\n",
    "\n",
    "    def __init__(self, value, a, b, c, d):\n",
    "        self.value = value\n",
    "        self.a = a\n",
    "        self.b = b\n",
    "        self.c = c\n",
    "        self.d = d\n",
    "\n",
    "def create_list_of_slotsclasses(n=10**5):\n",
    "    return [\n",
    "        MySlotsClass(i, i*2, i*3, i*4, i*5)\n",
    "        for i in range(n)\n",
    "    ]\n",
    "\n",
    "def sum_list_of_slotsclasses(data):\n",
    "    return sum(obj.value for obj in data)\n",
    "\n",
    "\n",
    "%timeit create_list_of_slotsclasses()\n",
    "data = create_list_of_slotsclasses()\n",
    "%timeit sum_list_of_slotsclasses(data)"
   ]
  },
  {
   "cell_type": "code",
   "execution_count": 46,
   "metadata": {},
   "outputs": [
    {
     "name": "stdout",
     "output_type": "stream",
     "text": [
      "62.7 ms ± 417 µs per loop (mean ± std. dev. of 7 runs, 10 loops each)\n",
      "6.17 ms ± 129 µs per loop (mean ± std. dev. of 7 runs, 100 loops each)\n"
     ]
    }
   ],
   "source": [
    "@dataclass(init=True, repr=False, eq=False, order=False, unsafe_hash=False, frozen=False)\n",
    "class MySlotsDataClass:\n",
    "    __slots__ = [\"value\", \"a\", \"b\", \"c\", \"d\"]\n",
    "    value: int\n",
    "    a: int\n",
    "    b: int\n",
    "    c: int\n",
    "    d: int\n",
    "\n",
    "def create_list_of_slotsdataclasses(n=10**5):\n",
    "    return [\n",
    "        MySlotsDataClass(i, i*2, i*3, i*4, i*5)\n",
    "        for i in range(n)\n",
    "    ]\n",
    "\n",
    "def sum_list_of_slotsdataclasses(data):\n",
    "    return sum(obj.value for obj in data)\n",
    "\n",
    "\n",
    "%timeit create_list_of_slotsdataclasses()\n",
    "data = create_list_of_slotsdataclasses()\n",
    "%timeit sum_list_of_slotsdataclasses(data)"
   ]
  },
  {
   "cell_type": "code",
   "execution_count": 47,
   "metadata": {},
   "outputs": [
    {
     "name": "stdout",
     "output_type": "stream",
     "text": [
      "peak memory: 364.98 MiB, increment: 231.07 MiB\n",
      "peak memory: 504.08 MiB, increment: 369.92 MiB\n",
      "peak memory: 435.36 MiB, increment: 301.09 MiB\n",
      "peak memory: 353.23 MiB, increment: 218.78 MiB\n",
      "peak memory: 345.22 MiB, increment: 210.57 MiB\n"
     ]
    }
   ],
   "source": [
    "%memit create_list_of_tuples(10**6)            # Fastest, but negates the whole point of using python.\n",
    "%memit create_list_of_dicts(10**6)\n",
    "%memit create_list_of_dataclasses(10**6)\n",
    "%memit create_list_of_slotsclasses(10**6)\n",
    "%memit create_list_of_slotsdataclasses(10**6)  # Definitely best! Free stuff, as fast as others, terse, low memory."
   ]
  },
  {
   "cell_type": "code",
   "execution_count": null,
   "metadata": {},
   "outputs": [],
   "source": []
  }
 ],
 "metadata": {
  "kernelspec": {
   "display_name": "Python 3.8.2 64-bit",
   "language": "python",
   "name": "python38264bit64b22e55956242d0ad84c2d3f69a2369"
  },
  "language_info": {
   "codemirror_mode": {
    "name": "ipython",
    "version": 3
   },
   "file_extension": ".py",
   "mimetype": "text/x-python",
   "name": "python",
   "nbconvert_exporter": "python",
   "pygments_lexer": "ipython3",
   "version": "3.8.2"
  }
 },
 "nbformat": 4,
 "nbformat_minor": 4
}
