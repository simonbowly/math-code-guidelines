{
 "cells": [
  {
   "cell_type": "markdown",
   "metadata": {},
   "source": [
    "# Tiny Object Benchmarks\n",
    "\n",
    "Consider these when dealing with large collections of little objects.\n",
    "This is a quick set of benchmarks comparing various object constructions in terms of:\n",
    "\n",
    "* Time taken to contruct a bunch of objects\n",
    "* Time taken to run an access operation on a bunch of objects\n",
    "* Memory overhead of the objects\n",
    "\n",
    "See results below. TL;DR:\n",
    "\n",
    "* Raw tuples are fastest to construct (but you're sacrificing readability).\n",
    "* There's not an appreciable performance difference between any type when traversing a big collection of objects and accessing one of their elements.\n",
    "* Setting the `__slots__` attribute of a class reduces memory use and construction time significantly, and the `dataclass` decorator adds no overhead (despite the free stuff you can get from it)."
   ]
  },
  {
   "cell_type": "code",
   "execution_count": 1,
   "metadata": {},
   "outputs": [],
   "source": [
    "%load_ext memory_profiler\n",
    "from collections import namedtuple\n",
    "from dataclasses import dataclass"
   ]
  },
  {
   "cell_type": "code",
   "execution_count": 2,
   "metadata": {},
   "outputs": [],
   "source": [
    "class Benchmark:\n",
    "    \"\"\" Here's a good reason to use inheritance, btw... \"\"\"\n",
    "\n",
    "    @classmethod\n",
    "    def create_list(cls, n):\n",
    "        return [\n",
    "            cls(i, i*2, i*3, i*4, i*5)\n",
    "            for i in range(n)\n",
    "        ]\n",
    "\n",
    "    @staticmethod\n",
    "    def sum_list(data):\n",
    "        return sum(obj.value for obj in data)\n",
    "\n",
    "    @classmethod\n",
    "    def run(cls):\n",
    "        print(f\"\\n--> {cls.BENCHNAME}\")\n",
    "        %timeit cls.create_list(10**5)\n",
    "        data = cls.create_list(10**5)\n",
    "        %timeit cls.sum_list(data)"
   ]
  },
  {
   "cell_type": "code",
   "execution_count": 3,
   "metadata": {},
   "outputs": [],
   "source": [
    "class TupleBenchmark(Benchmark):\n",
    "\n",
    "    BENCHNAME = \"tuple\"\n",
    "\n",
    "    @staticmethod\n",
    "    def create_list(n):\n",
    "        return [\n",
    "            (i, i*2, i*3, i*4, i*5)\n",
    "            for i in range(n)\n",
    "        ]\n",
    "\n",
    "    @staticmethod\n",
    "    def sum_list(data):\n",
    "        return sum(obj[0] for obj in data)"
   ]
  },
  {
   "cell_type": "code",
   "execution_count": 4,
   "metadata": {},
   "outputs": [],
   "source": [
    "class NamedTupleBenchmark(Benchmark):\n",
    "\n",
    "    _namedtuple = namedtuple(\"Named\", [\"a\", \"b\", \"c\", \"d\", \"e\"])\n",
    "    BENCHNAME = \"namedtuple\"\n",
    "\n",
    "    @classmethod\n",
    "    def create_list(cls, n):\n",
    "        return [\n",
    "            cls._namedtuple(i, i*2, i*3, i*4, i*5)\n",
    "            for i in range(n)\n",
    "        ]\n",
    "\n",
    "    @staticmethod\n",
    "    def sum_list(data):\n",
    "        return sum(obj[0] for obj in data)"
   ]
  },
  {
   "cell_type": "code",
   "execution_count": 5,
   "metadata": {},
   "outputs": [],
   "source": [
    "class ListBenchmark(Benchmark):\n",
    "\n",
    "    BENCHNAME = \"list\"\n",
    "\n",
    "    @staticmethod\n",
    "    def create_list(n):\n",
    "        return [\n",
    "            [i, i*2, i*3, i*4, i*5]\n",
    "            for i in range(n)\n",
    "        ]\n",
    "\n",
    "    @staticmethod\n",
    "    def sum_list(data):\n",
    "        return sum(obj[0] for obj in data)"
   ]
  },
  {
   "cell_type": "code",
   "execution_count": 6,
   "metadata": {},
   "outputs": [],
   "source": [
    "class DictBenchmark(Benchmark):\n",
    "\n",
    "    BENCHNAME = \"dict\"\n",
    "\n",
    "    @staticmethod\n",
    "    def create_list(n):\n",
    "        return [\n",
    "            {\"value\": i, \"a\": i*2, \"b\": i*3, \"c\": i*4, \"d\": i*5}\n",
    "            for i in range(n)\n",
    "        ]\n",
    "\n",
    "    @staticmethod\n",
    "    def sum_list(data):\n",
    "        return sum(obj[\"value\"] for obj in data)"
   ]
  },
  {
   "cell_type": "code",
   "execution_count": 7,
   "metadata": {},
   "outputs": [],
   "source": [
    "class ClassBenchmark(Benchmark):\n",
    "\n",
    "    BENCHNAME = \"class\"\n",
    "\n",
    "    def __init__(self, value, a, b, c, d):\n",
    "        self.value = value\n",
    "        self.a = a\n",
    "        self.b = b\n",
    "        self.c = c\n",
    "        self.d = d"
   ]
  },
  {
   "cell_type": "code",
   "execution_count": 8,
   "metadata": {},
   "outputs": [],
   "source": [
    "@dataclass\n",
    "class DataClassBenchmark(Benchmark):\n",
    "\n",
    "    BENCHNAME = \"class + dataclass\"\n",
    "\n",
    "    value: int\n",
    "    a: int\n",
    "    b: int\n",
    "    c: int\n",
    "    d: int"
   ]
  },
  {
   "cell_type": "code",
   "execution_count": 9,
   "metadata": {},
   "outputs": [],
   "source": [
    "class SlotsClassBenchmark(Benchmark):\n",
    "\n",
    "    BENCHNAME = \"class + slots\"\n",
    "    __slots__ = [\"value\", \"a\", \"b\", \"c\", \"d\"]\n",
    "\n",
    "    def __init__(self, value, a, b, c, d):\n",
    "        self.value = value\n",
    "        self.a = a\n",
    "        self.b = b\n",
    "        self.c = c\n",
    "        self.d = d"
   ]
  },
  {
   "cell_type": "code",
   "execution_count": 10,
   "metadata": {},
   "outputs": [],
   "source": [
    "@dataclass\n",
    "class SlotsDataClassBenchmark(Benchmark):\n",
    "\n",
    "    BENCHNAME = \"class + slots + dataclass\"\n",
    "    __slots__ = [\"value\", \"a\", \"b\", \"c\", \"d\"]\n",
    "\n",
    "    value: int\n",
    "    a: int\n",
    "    b: int\n",
    "    c: int\n",
    "    d: int"
   ]
  },
  {
   "cell_type": "code",
   "execution_count": 11,
   "metadata": {},
   "outputs": [
    {
     "name": "stdout",
     "output_type": "stream",
     "text": [
      "\n",
      "--> tuple\n",
      "20.6 ms ± 440 µs per loop (mean ± std. dev. of 7 runs, 10 loops each)\n",
      "4.1 ms ± 116 µs per loop (mean ± std. dev. of 7 runs, 100 loops each)\n",
      "\n",
      "--> namedtuple\n",
      "42.6 ms ± 253 µs per loop (mean ± std. dev. of 7 runs, 10 loops each)\n",
      "4.09 ms ± 50.4 µs per loop (mean ± std. dev. of 7 runs, 100 loops each)\n",
      "\n",
      "--> list\n",
      "23 ms ± 300 µs per loop (mean ± std. dev. of 7 runs, 10 loops each)\n",
      "4.18 ms ± 45.8 µs per loop (mean ± std. dev. of 7 runs, 100 loops each)\n",
      "\n",
      "--> dict\n",
      "35.5 ms ± 915 µs per loop (mean ± std. dev. of 7 runs, 10 loops each)\n",
      "4.46 ms ± 72.4 µs per loop (mean ± std. dev. of 7 runs, 100 loops each)\n",
      "\n",
      "--> class\n",
      "51.3 ms ± 406 µs per loop (mean ± std. dev. of 7 runs, 10 loops each)\n",
      "4.67 ms ± 73.2 µs per loop (mean ± std. dev. of 7 runs, 100 loops each)\n",
      "\n",
      "--> class + dataclass\n",
      "52.5 ms ± 130 µs per loop (mean ± std. dev. of 7 runs, 10 loops each)\n",
      "4.76 ms ± 18.6 µs per loop (mean ± std. dev. of 7 runs, 100 loops each)\n",
      "\n",
      "--> class + slots\n",
      "43.4 ms ± 173 µs per loop (mean ± std. dev. of 7 runs, 10 loops each)\n",
      "4.48 ms ± 146 µs per loop (mean ± std. dev. of 7 runs, 100 loops each)\n",
      "\n",
      "--> class + slots + dataclass\n",
      "45.4 ms ± 627 µs per loop (mean ± std. dev. of 7 runs, 10 loops each)\n",
      "4.35 ms ± 20.7 µs per loop (mean ± std. dev. of 7 runs, 100 loops each)\n"
     ]
    }
   ],
   "source": [
    "TupleBenchmark.run()\n",
    "NamedTupleBenchmark.run()\n",
    "ListBenchmark.run()\n",
    "DictBenchmark.run()\n",
    "ClassBenchmark.run()\n",
    "DataClassBenchmark.run()\n",
    "SlotsClassBenchmark.run()\n",
    "SlotsDataClassBenchmark.run()"
   ]
  },
  {
   "cell_type": "markdown",
   "metadata": {},
   "source": [
    "Not 100% sure I've done these benchmarks correctly or how reliable a memory profile run is for this purpose.\n",
    "The increment field should show memory used by the objects created."
   ]
  },
  {
   "cell_type": "code",
   "execution_count": 12,
   "metadata": {},
   "outputs": [
    {
     "name": "stdout",
     "output_type": "stream",
     "text": [
      "peak memory: 277.35 MiB, increment: 203.50 MiB\n",
      "peak memory: 326.72 MiB, increment: 251.92 MiB\n",
      "peak memory: 342.93 MiB, increment: 261.81 MiB\n",
      "peak memory: 374.43 MiB, increment: 292.41 MiB\n",
      "peak memory: 359.98 MiB, increment: 277.63 MiB\n",
      "peak memory: 359.90 MiB, increment: 277.38 MiB\n",
      "peak memory: 327.37 MiB, increment: 244.84 MiB\n",
      "peak memory: 327.45 MiB, increment: 244.96 MiB\n"
     ]
    }
   ],
   "source": [
    "%memit TupleBenchmark.create_list(10**6)\n",
    "%memit NamedTupleBenchmark.create_list(10**6)\n",
    "%memit ListBenchmark.create_list(10**6)\n",
    "%memit DictBenchmark.create_list(10**6)\n",
    "%memit ClassBenchmark.create_list(10**6)\n",
    "%memit DataClassBenchmark.create_list(10**6)\n",
    "%memit SlotsClassBenchmark.create_list(10**6)\n",
    "%memit SlotsDataClassBenchmark.create_list(10**6)"
   ]
  },
  {
   "cell_type": "code",
   "execution_count": null,
   "metadata": {},
   "outputs": [],
   "source": []
  }
 ],
 "metadata": {
  "kernelspec": {
   "display_name": "Python 3",
   "language": "python",
   "name": "python3"
  },
  "language_info": {
   "codemirror_mode": {
    "name": "ipython",
    "version": 3
   },
   "file_extension": ".py",
   "mimetype": "text/x-python",
   "name": "python",
   "nbconvert_exporter": "python",
   "pygments_lexer": "ipython3",
   "version": "3.8.2"
  }
 },
 "nbformat": 4,
 "nbformat_minor": 4
}
